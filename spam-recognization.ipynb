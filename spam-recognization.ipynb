{
 "cells": [
  {
   "cell_type": "markdown",
   "metadata": {},
   "source": [
    "Firstly, we import the data."
   ]
  },
  {
   "cell_type": "code",
   "execution_count": 1,
   "metadata": {},
   "outputs": [
    {
     "output_type": "execute_result",
     "data": {
      "text/plain": "  Email No.  the  to  ect  and  for  of    a  you  hou  ...  connevey  jay  \\\n0   Email 1    0   0    1    0    0   0    2    0    0  ...         0    0   \n1   Email 2    8  13   24    6    6   2  102    1   27  ...         0    0   \n2   Email 3    0   0    1    0    0   0    8    0    0  ...         0    0   \n3   Email 4    0   5   22    0    5   1   51    2   10  ...         0    0   \n4   Email 5    7   6   17    1    5   2   57    0    9  ...         0    0   \n\n   valued  lay  infrastructure  military  allowing  ff  dry  Prediction  \n0       0    0               0         0         0   0    0           0  \n1       0    0               0         0         0   1    0           0  \n2       0    0               0         0         0   0    0           0  \n3       0    0               0         0         0   0    0           0  \n4       0    0               0         0         0   1    0           0  \n\n[5 rows x 3002 columns]",
      "text/html": "<div>\n<style scoped>\n    .dataframe tbody tr th:only-of-type {\n        vertical-align: middle;\n    }\n\n    .dataframe tbody tr th {\n        vertical-align: top;\n    }\n\n    .dataframe thead th {\n        text-align: right;\n    }\n</style>\n<table border=\"1\" class=\"dataframe\">\n  <thead>\n    <tr style=\"text-align: right;\">\n      <th></th>\n      <th>Email No.</th>\n      <th>the</th>\n      <th>to</th>\n      <th>ect</th>\n      <th>and</th>\n      <th>for</th>\n      <th>of</th>\n      <th>a</th>\n      <th>you</th>\n      <th>hou</th>\n      <th>...</th>\n      <th>connevey</th>\n      <th>jay</th>\n      <th>valued</th>\n      <th>lay</th>\n      <th>infrastructure</th>\n      <th>military</th>\n      <th>allowing</th>\n      <th>ff</th>\n      <th>dry</th>\n      <th>Prediction</th>\n    </tr>\n  </thead>\n  <tbody>\n    <tr>\n      <th>0</th>\n      <td>Email 1</td>\n      <td>0</td>\n      <td>0</td>\n      <td>1</td>\n      <td>0</td>\n      <td>0</td>\n      <td>0</td>\n      <td>2</td>\n      <td>0</td>\n      <td>0</td>\n      <td>...</td>\n      <td>0</td>\n      <td>0</td>\n      <td>0</td>\n      <td>0</td>\n      <td>0</td>\n      <td>0</td>\n      <td>0</td>\n      <td>0</td>\n      <td>0</td>\n      <td>0</td>\n    </tr>\n    <tr>\n      <th>1</th>\n      <td>Email 2</td>\n      <td>8</td>\n      <td>13</td>\n      <td>24</td>\n      <td>6</td>\n      <td>6</td>\n      <td>2</td>\n      <td>102</td>\n      <td>1</td>\n      <td>27</td>\n      <td>...</td>\n      <td>0</td>\n      <td>0</td>\n      <td>0</td>\n      <td>0</td>\n      <td>0</td>\n      <td>0</td>\n      <td>0</td>\n      <td>1</td>\n      <td>0</td>\n      <td>0</td>\n    </tr>\n    <tr>\n      <th>2</th>\n      <td>Email 3</td>\n      <td>0</td>\n      <td>0</td>\n      <td>1</td>\n      <td>0</td>\n      <td>0</td>\n      <td>0</td>\n      <td>8</td>\n      <td>0</td>\n      <td>0</td>\n      <td>...</td>\n      <td>0</td>\n      <td>0</td>\n      <td>0</td>\n      <td>0</td>\n      <td>0</td>\n      <td>0</td>\n      <td>0</td>\n      <td>0</td>\n      <td>0</td>\n      <td>0</td>\n    </tr>\n    <tr>\n      <th>3</th>\n      <td>Email 4</td>\n      <td>0</td>\n      <td>5</td>\n      <td>22</td>\n      <td>0</td>\n      <td>5</td>\n      <td>1</td>\n      <td>51</td>\n      <td>2</td>\n      <td>10</td>\n      <td>...</td>\n      <td>0</td>\n      <td>0</td>\n      <td>0</td>\n      <td>0</td>\n      <td>0</td>\n      <td>0</td>\n      <td>0</td>\n      <td>0</td>\n      <td>0</td>\n      <td>0</td>\n    </tr>\n    <tr>\n      <th>4</th>\n      <td>Email 5</td>\n      <td>7</td>\n      <td>6</td>\n      <td>17</td>\n      <td>1</td>\n      <td>5</td>\n      <td>2</td>\n      <td>57</td>\n      <td>0</td>\n      <td>9</td>\n      <td>...</td>\n      <td>0</td>\n      <td>0</td>\n      <td>0</td>\n      <td>0</td>\n      <td>0</td>\n      <td>0</td>\n      <td>0</td>\n      <td>1</td>\n      <td>0</td>\n      <td>0</td>\n    </tr>\n  </tbody>\n</table>\n<p>5 rows × 3002 columns</p>\n</div>"
     },
     "metadata": {},
     "execution_count": 1
    }
   ],
   "source": [
    "import pandas as pd\n",
    "\n",
    "df = pd.read_csv('train_emails.csv')\n",
    "df.head()"
   ]
  },
  {
   "cell_type": "markdown",
   "metadata": {},
   "source": [
    "Check the shape of the data"
   ]
  },
  {
   "cell_type": "code",
   "execution_count": 2,
   "metadata": {},
   "outputs": [
    {
     "output_type": "execute_result",
     "data": {
      "text/plain": "(5172, 3002)"
     },
     "metadata": {},
     "execution_count": 2
    }
   ],
   "source": [
    "df.shape"
   ]
  },
  {
   "cell_type": "markdown",
   "metadata": {},
   "source": [
    "Then we clean the data. Remove the `Email No.` column."
   ]
  },
  {
   "cell_type": "code",
   "execution_count": 3,
   "metadata": {},
   "outputs": [
    {
     "output_type": "execute_result",
     "data": {
      "text/plain": "   the  to  ect  and  for  of    a  you  hou  in  ...  connevey  jay  valued  \\\n0    0   0    1    0    0   0    2    0    0   0  ...         0    0       0   \n1    8  13   24    6    6   2  102    1   27  18  ...         0    0       0   \n2    0   0    1    0    0   0    8    0    0   4  ...         0    0       0   \n3    0   5   22    0    5   1   51    2   10   1  ...         0    0       0   \n4    7   6   17    1    5   2   57    0    9   3  ...         0    0       0   \n\n   lay  infrastructure  military  allowing  ff  dry  Prediction  \n0    0               0         0         0   0    0           0  \n1    0               0         0         0   1    0           0  \n2    0               0         0         0   0    0           0  \n3    0               0         0         0   0    0           0  \n4    0               0         0         0   1    0           0  \n\n[5 rows x 3001 columns]",
      "text/html": "<div>\n<style scoped>\n    .dataframe tbody tr th:only-of-type {\n        vertical-align: middle;\n    }\n\n    .dataframe tbody tr th {\n        vertical-align: top;\n    }\n\n    .dataframe thead th {\n        text-align: right;\n    }\n</style>\n<table border=\"1\" class=\"dataframe\">\n  <thead>\n    <tr style=\"text-align: right;\">\n      <th></th>\n      <th>the</th>\n      <th>to</th>\n      <th>ect</th>\n      <th>and</th>\n      <th>for</th>\n      <th>of</th>\n      <th>a</th>\n      <th>you</th>\n      <th>hou</th>\n      <th>in</th>\n      <th>...</th>\n      <th>connevey</th>\n      <th>jay</th>\n      <th>valued</th>\n      <th>lay</th>\n      <th>infrastructure</th>\n      <th>military</th>\n      <th>allowing</th>\n      <th>ff</th>\n      <th>dry</th>\n      <th>Prediction</th>\n    </tr>\n  </thead>\n  <tbody>\n    <tr>\n      <th>0</th>\n      <td>0</td>\n      <td>0</td>\n      <td>1</td>\n      <td>0</td>\n      <td>0</td>\n      <td>0</td>\n      <td>2</td>\n      <td>0</td>\n      <td>0</td>\n      <td>0</td>\n      <td>...</td>\n      <td>0</td>\n      <td>0</td>\n      <td>0</td>\n      <td>0</td>\n      <td>0</td>\n      <td>0</td>\n      <td>0</td>\n      <td>0</td>\n      <td>0</td>\n      <td>0</td>\n    </tr>\n    <tr>\n      <th>1</th>\n      <td>8</td>\n      <td>13</td>\n      <td>24</td>\n      <td>6</td>\n      <td>6</td>\n      <td>2</td>\n      <td>102</td>\n      <td>1</td>\n      <td>27</td>\n      <td>18</td>\n      <td>...</td>\n      <td>0</td>\n      <td>0</td>\n      <td>0</td>\n      <td>0</td>\n      <td>0</td>\n      <td>0</td>\n      <td>0</td>\n      <td>1</td>\n      <td>0</td>\n      <td>0</td>\n    </tr>\n    <tr>\n      <th>2</th>\n      <td>0</td>\n      <td>0</td>\n      <td>1</td>\n      <td>0</td>\n      <td>0</td>\n      <td>0</td>\n      <td>8</td>\n      <td>0</td>\n      <td>0</td>\n      <td>4</td>\n      <td>...</td>\n      <td>0</td>\n      <td>0</td>\n      <td>0</td>\n      <td>0</td>\n      <td>0</td>\n      <td>0</td>\n      <td>0</td>\n      <td>0</td>\n      <td>0</td>\n      <td>0</td>\n    </tr>\n    <tr>\n      <th>3</th>\n      <td>0</td>\n      <td>5</td>\n      <td>22</td>\n      <td>0</td>\n      <td>5</td>\n      <td>1</td>\n      <td>51</td>\n      <td>2</td>\n      <td>10</td>\n      <td>1</td>\n      <td>...</td>\n      <td>0</td>\n      <td>0</td>\n      <td>0</td>\n      <td>0</td>\n      <td>0</td>\n      <td>0</td>\n      <td>0</td>\n      <td>0</td>\n      <td>0</td>\n      <td>0</td>\n    </tr>\n    <tr>\n      <th>4</th>\n      <td>7</td>\n      <td>6</td>\n      <td>17</td>\n      <td>1</td>\n      <td>5</td>\n      <td>2</td>\n      <td>57</td>\n      <td>0</td>\n      <td>9</td>\n      <td>3</td>\n      <td>...</td>\n      <td>0</td>\n      <td>0</td>\n      <td>0</td>\n      <td>0</td>\n      <td>0</td>\n      <td>0</td>\n      <td>0</td>\n      <td>1</td>\n      <td>0</td>\n      <td>0</td>\n    </tr>\n  </tbody>\n</table>\n<p>5 rows × 3001 columns</p>\n</div>"
     },
     "metadata": {},
     "execution_count": 3
    }
   ],
   "source": [
    "df = df.drop('Email No.', 1)\n",
    "df.head()"
   ]
  },
  {
   "cell_type": "markdown",
   "metadata": {},
   "source": [
    "Check if there's any NaN."
   ]
  },
  {
   "cell_type": "code",
   "execution_count": 4,
   "metadata": {},
   "outputs": [
    {
     "output_type": "execute_result",
     "data": {
      "text/plain": "False"
     },
     "metadata": {},
     "execution_count": 4
    }
   ],
   "source": [
    "df.isnull().values.any()"
   ]
  },
  {
   "cell_type": "markdown",
   "metadata": {},
   "source": [
    "We can see that the data does not have NaNs.\n",
    "\n",
    "Now we have the clean dataset, we can use `Multinomial Navie Bayes` to classify the mails."
   ]
  },
  {
   "cell_type": "code",
   "execution_count": 5,
   "metadata": {},
   "outputs": [],
   "source": [
    "from sklearn.model_selection import train_test_split\n",
    "train_x, test_x, train_y, test_y = train_test_split(df.drop('Prediction', axis=1), df['Prediction'], test_size=0.2, random_state=42)"
   ]
  },
  {
   "cell_type": "code",
   "execution_count": 6,
   "metadata": {},
   "outputs": [
    {
     "output_type": "execute_result",
     "data": {
      "text/plain": "MultinomialNB(alpha=1.9)"
     },
     "metadata": {},
     "execution_count": 6
    }
   ],
   "source": [
    "from sklearn.naive_bayes import MultinomialNB\n",
    "model = MultinomialNB(alpha=1.9)\n",
    "model.fit(train_x, train_y)"
   ]
  },
  {
   "cell_type": "markdown",
   "metadata": {},
   "source": [
    "Now we use `score` method to determine the mean accuracy of the model:"
   ]
  },
  {
   "cell_type": "code",
   "execution_count": 7,
   "metadata": {},
   "outputs": [
    {
     "output_type": "execute_result",
     "data": {
      "text/plain": "0.9536231884057971"
     },
     "metadata": {},
     "execution_count": 7
    }
   ],
   "source": [
    "model.score(test_x, test_y)"
   ]
  },
  {
   "cell_type": "markdown",
   "metadata": {},
   "source": [
    "To make the accuracy more accurate, we can use `Area Under Receiver Operating Characteristic Curve` (\"ROC AUC\") to measure the model accuracy."
   ]
  },
  {
   "cell_type": "code",
   "execution_count": 8,
   "metadata": {},
   "outputs": [
    {
     "output_type": "execute_result",
     "data": {
      "text/plain": "0.9789137073474016"
     },
     "metadata": {},
     "execution_count": 8
    }
   ],
   "source": [
    "from sklearn.metrics import roc_auc_score\n",
    "probabilities = model.predict_proba(test_x)\n",
    "roc_auc_score(test_y, probabilities[:, 1])"
   ]
  },
  {
   "cell_type": "markdown",
   "metadata": {},
   "source": [
    "Moreover, we can use `confusion matrix` to see how many emails are classified correctly or incorrectly."
   ]
  },
  {
   "cell_type": "code",
   "execution_count": 9,
   "metadata": {},
   "outputs": [
    {
     "output_type": "execute_result",
     "data": {
      "text/plain": "array([[703,  36],\n       [ 12, 284]])"
     },
     "metadata": {},
     "execution_count": 9
    }
   ],
   "source": [
    "from sklearn.metrics import confusion_matrix\n",
    "predicted = model.predict(test_x)\n",
    "confusion_matrix(test_y, predicted)"
   ]
  },
  {
   "cell_type": "markdown",
   "metadata": {},
   "source": [
    "As we can see, the upper-left and lower-right cells have mush larger number than that of upper-right and lower-left. Therefore, This model is accurate.\n",
    "\n",
    "Then we can also check the presision and recall score."
   ]
  },
  {
   "cell_type": "code",
   "execution_count": 10,
   "metadata": {},
   "outputs": [
    {
     "output_type": "execute_result",
     "data": {
      "text/plain": "0.8701996927803379"
     },
     "metadata": {},
     "execution_count": 10
    }
   ],
   "source": [
    "from sklearn.metrics import precision_score\n",
    "\n",
    "train_predictions = model.predict(train_x)\n",
    "precision_score(train_y, train_predictions)"
   ]
  },
  {
   "cell_type": "code",
   "execution_count": 11,
   "metadata": {},
   "outputs": [
    {
     "output_type": "execute_result",
     "data": {
      "text/plain": "0.9410299003322259"
     },
     "metadata": {},
     "execution_count": 11
    }
   ],
   "source": [
    "from sklearn.metrics import recall_score\n",
    "\n",
    "recall_score(train_y, train_predictions)"
   ]
  },
  {
   "cell_type": "markdown",
   "metadata": {},
   "source": [
    "\n",
    "\n",
    "Following codes are used to predict some emails from other datasets."
   ]
  },
  {
   "cell_type": "code",
   "execution_count": 12,
   "metadata": {},
   "outputs": [],
   "source": [
    "import re\n",
    "\n",
    "# Split the email and count the frequency\n",
    "def get_word_frequency(content):\n",
    "    words = list(df.columns)[:-1]\n",
    "\n",
    "    # Find all words and its length\n",
    "    pattern_word = re.compile(r'[a-zA-Z]+')\n",
    "    content_words = pattern_word.findall(content.lower())\n",
    "\n",
    "    # Calculate the frequency probability\n",
    "    frequency_word = [content_words.count(word) for word in words]\n",
    "\n",
    "    return dict(enumerate(frequency_word))"
   ]
  },
  {
   "cell_type": "code",
   "execution_count": 13,
   "metadata": {},
   "outputs": [],
   "source": [
    "# precict a single email\n",
    "def predict_spam(content):\n",
    "    input = [get_word_frequency(content)]\n",
    "    return model.predict(pd.DataFrame(input))[0]"
   ]
  },
  {
   "cell_type": "code",
   "execution_count": 15,
   "metadata": {
    "tags": []
   },
   "outputs": [
    {
     "output_type": "execute_result",
     "data": {
      "text/plain": "   the  to  ect  and  for  of   a  you  hou  in  ...  enhancements  connevey  \\\n0    1   2    0    0    1   0   1    2    0   0  ...             0         0   \n1    0   0    0    0    1   0   0    0    0   0  ...             0         0   \n2   25  16    0   17    6  11  11    8    0   5  ...             0         0   \n3    0   0    0    0    0   0   0    0    0   0  ...             0         0   \n4    1   3    0    0    0   0   2    1    0   0  ...             0         0   \n\n   jay  valued  lay  infrastructure  military  allowing  ff  dry  \n0    0       0    0               0         0         0   0    0  \n1    0       0    0               0         0         0   0    0  \n2    0       0    0               0         0         0   0    0  \n3    0       0    0               0         0         0   0    0  \n4    0       0    0               0         0         0   0    0  \n\n[5 rows x 3000 columns]",
      "text/html": "<div>\n<style scoped>\n    .dataframe tbody tr th:only-of-type {\n        vertical-align: middle;\n    }\n\n    .dataframe tbody tr th {\n        vertical-align: top;\n    }\n\n    .dataframe thead th {\n        text-align: right;\n    }\n</style>\n<table border=\"1\" class=\"dataframe\">\n  <thead>\n    <tr style=\"text-align: right;\">\n      <th></th>\n      <th>the</th>\n      <th>to</th>\n      <th>ect</th>\n      <th>and</th>\n      <th>for</th>\n      <th>of</th>\n      <th>a</th>\n      <th>you</th>\n      <th>hou</th>\n      <th>in</th>\n      <th>...</th>\n      <th>enhancements</th>\n      <th>connevey</th>\n      <th>jay</th>\n      <th>valued</th>\n      <th>lay</th>\n      <th>infrastructure</th>\n      <th>military</th>\n      <th>allowing</th>\n      <th>ff</th>\n      <th>dry</th>\n    </tr>\n  </thead>\n  <tbody>\n    <tr>\n      <th>0</th>\n      <td>1</td>\n      <td>2</td>\n      <td>0</td>\n      <td>0</td>\n      <td>1</td>\n      <td>0</td>\n      <td>1</td>\n      <td>2</td>\n      <td>0</td>\n      <td>0</td>\n      <td>...</td>\n      <td>0</td>\n      <td>0</td>\n      <td>0</td>\n      <td>0</td>\n      <td>0</td>\n      <td>0</td>\n      <td>0</td>\n      <td>0</td>\n      <td>0</td>\n      <td>0</td>\n    </tr>\n    <tr>\n      <th>1</th>\n      <td>0</td>\n      <td>0</td>\n      <td>0</td>\n      <td>0</td>\n      <td>1</td>\n      <td>0</td>\n      <td>0</td>\n      <td>0</td>\n      <td>0</td>\n      <td>0</td>\n      <td>...</td>\n      <td>0</td>\n      <td>0</td>\n      <td>0</td>\n      <td>0</td>\n      <td>0</td>\n      <td>0</td>\n      <td>0</td>\n      <td>0</td>\n      <td>0</td>\n      <td>0</td>\n    </tr>\n    <tr>\n      <th>2</th>\n      <td>25</td>\n      <td>16</td>\n      <td>0</td>\n      <td>17</td>\n      <td>6</td>\n      <td>11</td>\n      <td>11</td>\n      <td>8</td>\n      <td>0</td>\n      <td>5</td>\n      <td>...</td>\n      <td>0</td>\n      <td>0</td>\n      <td>0</td>\n      <td>0</td>\n      <td>0</td>\n      <td>0</td>\n      <td>0</td>\n      <td>0</td>\n      <td>0</td>\n      <td>0</td>\n    </tr>\n    <tr>\n      <th>3</th>\n      <td>0</td>\n      <td>0</td>\n      <td>0</td>\n      <td>0</td>\n      <td>0</td>\n      <td>0</td>\n      <td>0</td>\n      <td>0</td>\n      <td>0</td>\n      <td>0</td>\n      <td>...</td>\n      <td>0</td>\n      <td>0</td>\n      <td>0</td>\n      <td>0</td>\n      <td>0</td>\n      <td>0</td>\n      <td>0</td>\n      <td>0</td>\n      <td>0</td>\n      <td>0</td>\n    </tr>\n    <tr>\n      <th>4</th>\n      <td>1</td>\n      <td>3</td>\n      <td>0</td>\n      <td>0</td>\n      <td>0</td>\n      <td>0</td>\n      <td>2</td>\n      <td>1</td>\n      <td>0</td>\n      <td>0</td>\n      <td>...</td>\n      <td>0</td>\n      <td>0</td>\n      <td>0</td>\n      <td>0</td>\n      <td>0</td>\n      <td>0</td>\n      <td>0</td>\n      <td>0</td>\n      <td>0</td>\n      <td>0</td>\n    </tr>\n  </tbody>\n</table>\n<p>5 rows × 3000 columns</p>\n</div>"
     },
     "metadata": {},
     "execution_count": 15
    }
   ],
   "source": [
    "# Predict emails from another dataset\n",
    "test_df = pd.read_csv(\"test_emails.csv\")\n",
    "test_df = test_df[['text', 'label_num']]\n",
    "\n",
    "test_input = []\n",
    "for i in range(test_df.shape[0]):\n",
    "    test_input.append(get_word_frequency(test_df.iloc[i][0]))\n",
    "test_input = pd.DataFrame(test_input)\n",
    "test_result = test_df['label_num']\n",
    "\n",
    "test_input.head()"
   ]
  },
  {
   "cell_type": "markdown",
   "metadata": {},
   "source": [
    "Then check the accuracy of the model."
   ]
  },
  {
   "cell_type": "code",
   "execution_count": 16,
   "metadata": {},
   "outputs": [
    {
     "output_type": "execute_result",
     "data": {
      "text/plain": "0.9400502804099787"
     },
     "metadata": {},
     "execution_count": 16
    }
   ],
   "source": [
    "model.score(test_input, test_result)"
   ]
  },
  {
   "cell_type": "code",
   "execution_count": 26,
   "metadata": {},
   "outputs": [
    {
     "output_type": "execute_result",
     "data": {
      "text/plain": "0.9929796153136223"
     },
     "metadata": {},
     "execution_count": 26
    }
   ],
   "source": [
    "probabilities = model.predict_proba(test_input)\n",
    "roc_auc_score(test_result, probabilities[:, 1])"
   ]
  },
  {
   "cell_type": "markdown",
   "metadata": {},
   "source": [
    "Above scores show that the model has a good accuracy on this dataset.\n",
    "\n",
    "Then we check the confusion matrix to see how is the prediction distribution (Spam or ham emails are classified correctly or not)"
   ]
  },
  {
   "cell_type": "code",
   "execution_count": 22,
   "metadata": {
    "tags": []
   },
   "outputs": [
    {
     "output_type": "execute_result",
     "data": {
      "text/plain": "array([[3628,   44],\n       [ 266, 1233]])"
     },
     "metadata": {},
     "execution_count": 22
    }
   ],
   "source": [
    "predicted = model.predict(test_input)\n",
    "confusion_matrix(test_result, predicted)"
   ]
  },
  {
   "cell_type": "code",
   "execution_count": 19,
   "metadata": {},
   "outputs": [
    {
     "output_type": "execute_result",
     "data": {
      "text/plain": "0.9655442443226312"
     },
     "metadata": {},
     "execution_count": 19
    }
   ],
   "source": [
    "from sklearn.metrics import precision_score\n",
    "\n",
    "train_predictions = model.predict(test_input)\n",
    "precision_score(test_result, predicted)"
   ]
  },
  {
   "cell_type": "code",
   "execution_count": 20,
   "metadata": {},
   "outputs": [
    {
     "output_type": "execute_result",
     "data": {
      "text/plain": "0.8225483655770514"
     },
     "metadata": {},
     "execution_count": 20
    }
   ],
   "source": [
    "recall_score(test_result, predicted)"
   ]
  },
  {
   "cell_type": "markdown",
   "metadata": {},
   "source": [
    "Since the upper-left and lower-right cells have mush larger number than that of upper-right and lower-left, we can say that this model can be used to classify emails."
   ]
  }
 ],
 "metadata": {
  "language_info": {
   "codemirror_mode": {
    "name": "ipython",
    "version": 3
   },
   "file_extension": ".py",
   "mimetype": "text/x-python",
   "name": "python",
   "nbconvert_exporter": "python",
   "pygments_lexer": "ipython3",
   "version": "3.7.6-final"
  },
  "orig_nbformat": 2,
  "kernelspec": {
   "name": "python37664bitb7a13a9b0698444ab813f01f08c2c1b6",
   "display_name": "Python 3.7.6 64-bit"
  }
 },
 "nbformat": 4,
 "nbformat_minor": 2
}
